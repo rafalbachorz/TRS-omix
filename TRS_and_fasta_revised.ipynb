{
 "cells": [
  {
   "cell_type": "code",
   "execution_count": 1,
   "id": "d4de05a4",
   "metadata": {},
   "outputs": [],
   "source": [
    "import cffi\n",
    "import os\n",
    "import numpy as np\n",
    "import pandas as pd\n",
    "from io import StringIO\n",
    "from enum import Enum\n",
    "from Bio import SeqIO\n",
    "from Bio import Entrez\n",
    "from pathlib import Path\n",
    "from modules.auxiliary import DATA_SEQ_DIR\n",
    "from modules.pytrsomix import TRScalculator, SeqAnalyzer, SeqProcessor\n",
    "import matplotlib.pyplot as plt\n",
    "from multiprocessing import Pool\n",
    "import argparse"
   ]
  },
  {
   "cell_type": "code",
   "execution_count": 2,
   "id": "77857d17",
   "metadata": {},
   "outputs": [
    {
     "name": "stdout",
     "output_type": "stream",
     "text": [
      "Please provide the directory path where your .fasta files are located.\n",
      "You can provide either a full path or a relative path.\n",
      "Directory path: /home/hubert/TRS-omix/python/data/avium\n",
      "Enter the value for minimum length of sequence: 100\n",
      "Enter the value for maximum length of sequence: 1000\n",
      "Enter the value for mode to be used: 1\n",
      "Directory /home/hubert/TRS-omix/python/avium_results created successfully.\n",
      "Directory /home/hubert/TRS-omix/python/avium_results/TRS_output created successfully.\n",
      "Results saved to /home/hubert/TRS-omix/python/avium_results/TRS_output/avium_results.csv\n"
     ]
    }
   ],
   "source": [
    "# Hopefully better version of the above\n",
    "# Prompt user for directory path\n",
    "print(\"Please provide the directory path where your .fasta files are located.\")\n",
    "print(\"You can provide either a full path or a relative path.\")\n",
    "\n",
    "# Loop until a valid directory path is provided\n",
    "while True:\n",
    "    directory_path = input(\"Directory path: \")\n",
    "    directory_path = os.path.abspath(directory_path)\n",
    "    if os.path.exists(directory_path):\n",
    "        break\n",
    "    else:\n",
    "        print(\"Directory does not exist. Please provide a valid directory path.\")\n",
    "\n",
    "while True:\n",
    "    try:\n",
    "        tmin = int(input(\"Enter the value for minimum length of sequence: \"))\n",
    "        tmax = int(input(\"Enter the value for maximum length of sequence: \"))\n",
    "        mode = int(input(\"Enter the value for mode to be used: \"))\n",
    "        break\n",
    "    except ValueError:\n",
    "        print(\"Invalid input. Please enter a valid integer.\")\n",
    "\n",
    "\n",
    "# Get directory name\n",
    "directory_name = os.path.basename(directory_path)\n",
    "\n",
    "# Check if results file exists in the current working directory\n",
    "results_directory = os.path.join(os.getcwd(), f\"{directory_name}_results\")\n",
    "\n",
    "results_file_path = os.path.join(os.getcwd(), results_directory)\n",
    "\n",
    "\n",
    "# Define the directory path for the results\n",
    "results_directory = os.path.join(os.getcwd(), f\"{directory_name}_results\")\n",
    "results_file = f\"{directory_name}_results.csv\"\n",
    "# Create the directory\n",
    "SeqProcessor.ensure_directory_exists(results_directory)\n",
    "\n",
    "# Define the file path for the results within the directory\n",
    "results_file_path = os.path.join(results_directory, results_file)\n",
    "\n",
    "if os.path.exists(results_file_path):\n",
    "    # Ask user if they want to continue\n",
    "    choice = input(f\"Results file '{results_file}' already exists in the current directory. Do you want to continue? (y/n): \")\n",
    "    if choice.lower() != 'y':\n",
    "        print(\"Exiting program.\")\n",
    "        exit()\n",
    "\n",
    "# Get list of .fasta files in the directory\n",
    "fasta_files = [file for file in os.listdir(directory_path) if file.endswith(\".fasta\")]\n",
    "\n",
    "# Initialize a list to store TRScalculator instances\n",
    "trs_calculators = []\n",
    "\n",
    "# Iterate over each .fasta file\n",
    "for fasta_file in fasta_files:\n",
    "    # Get absolute path of the fasta file\n",
    "    fasta_path = os.path.join(directory_path, fasta_file)\n",
    "\n",
    "    # Check if file exists\n",
    "    if not os.path.exists(fasta_path):\n",
    "        print(f\"File '{fasta_file}' does not exist. Skipping...\")\n",
    "        continue\n",
    "    \n",
    "    # Define the file path for trs.txt (assuming it's located in the working directory)\n",
    "    trs_file = os.path.abspath(\"trs.txt\").encode()\n",
    "    \n",
    "    # Create TRScalculator instance and calculate TRS\n",
    "    trs_calculator = TRScalculator(sequence=fasta_path.encode(), trs=trs_file, tmin=tmin, tmax=tmax, mode=mode)\n",
    "    trs_calculator.calculate()\n",
    "    \n",
    "    # Append the TRScalculator instance to the list\n",
    "    trs_calculators.append(trs_calculator)\n",
    "\n",
    "# Initialize an empty list to store the results\n",
    "results_list = []\n",
    "\n",
    "# Iterate over each TRScalculator instance\n",
    "for trs_calculator in trs_calculators:\n",
    "    # Extract the result from the calculator\n",
    "    result = trs_calculator.Result\n",
    "    \n",
    "    # Append the result to the list\n",
    "    results_list.append(result)\n",
    "\n",
    "# Concatenate all results into a single DataFrame\n",
    "combined_results = pd.concat(results_list, ignore_index=True)\n",
    "\n",
    "#Remove \">\" from >SEQ column\n",
    "combined_results[\">SEQ\"] = combined_results[\">SEQ\"].str.replace(\">\", \"\")\n",
    "\n",
    "# Display the combined results\n",
    "combined_results\n",
    "\n",
    "# Define the CSV file name and directory \n",
    "csv_file_name = directory_name + \"_results.csv\"\n",
    "trs_output_dir = os.path.join(results_directory, \"TRS_output\")\n",
    "SeqProcessor.ensure_directory_exists(trs_output_dir)\n",
    "csv_file_path = os.path.join(trs_output_dir, csv_file_name)\n",
    "\n",
    "# Save combined_results to CSV file\n",
    "combined_results.to_csv(csv_file_path, index=False)\n",
    "\n",
    "print(f\"Results saved to {csv_file_path}\")"
   ]
  },
  {
   "cell_type": "code",
   "execution_count": 3,
   "id": "f925ae20",
   "metadata": {},
   "outputs": [],
   "source": [
    "combined_results = pd.read_csv(csv_file_path)"
   ]
  },
  {
   "cell_type": "code",
   "execution_count": 4,
   "id": "3bd2f841",
   "metadata": {},
   "outputs": [
    {
     "name": "stdout",
     "output_type": "stream",
     "text": [
      "The maximum available length for SEQ_L and SEQ_R is 50 and 50 respectively\n",
      "Enter the length of sequence to extract from the start (up to 50): 50\n",
      "Enter the length of sequence to extract from the start (up to 50): 50\n",
      "Dataframe filtered successfully\n",
      "Results directory is set to: /home/hubert/TRS-omix/python/avium_results_L50_R50\n",
      "The results directory has been renamed to: /home/hubert/TRS-omix/python/avium_results_L50_R50\n"
     ]
    }
   ],
   "source": [
    "# Use SeqProcessing methods to calculate maximum lengths for SEQ_L and SEQ_R based on tmin\n",
    "l_chars_max, r_chars_max = SeqProcessor.calculate_sequence_lengths(tmin)\n",
    "\n",
    "# Adjust the user input to ensure it is within the allowed range\n",
    "l_chars = SeqProcessor.adjust_input_to_range(f\"Enter the length of sequence to extract from the start (up to {l_chars_max}): \", l_chars_max)\n",
    "r_chars = SeqProcessor.adjust_input_to_range(f\"Enter the length of sequence to extract from the start (up to {r_chars_max}): \", r_chars_max)\n",
    "\n",
    "# Use SeqProcessing to extract sequences based on the adjusted lengths\n",
    "combined_results = SeqProcessor.extract_sequences(combined_results, l_chars, r_chars)\n",
    "\n",
    "# Generate the new directory name based on user inputs\n",
    "new_results_directory = f\"{results_directory}_L{l_chars}_R{r_chars}\"\n",
    "new_results_directory_path = os.path.join(os.path.dirname(results_directory), new_results_directory)\n",
    "\n",
    "print(f\"Results directory is set to: {new_results_directory}\")\n",
    "\n",
    "# From this point, you can continue with further processing or analysis steps\n",
    "# such as saving the modified DataFrame to a new file in the new results directory\n",
    "# or performing additional operations as needed.\n",
    "if not os.path.exists(new_results_directory_path):\n",
    "    # Rename the existing results directory\n",
    "    os.rename(results_directory, new_results_directory_path)\n",
    "    print(f\"The results directory has been renamed to: {new_results_directory_path}\")\n",
    "else:\n",
    "    print(f\"Directory {new_results_directory_path} already exists. Consider using a different name or removing the existing directory.\")\n",
    "results_directory = new_results_directory_path "
   ]
  },
  {
   "cell_type": "code",
   "execution_count": null,
   "id": "b38f0c5e",
   "metadata": {},
   "outputs": [],
   "source": []
  },
  {
   "cell_type": "code",
   "execution_count": 5,
   "id": "533e512f",
   "metadata": {},
   "outputs": [
    {
     "name": "stdout",
     "output_type": "stream",
     "text": [
      "To further protect your email adress please consider using a disposable or temporary one\n",
      "Enter your email adress to access Entrez:mokryziom@gmail.com\n",
      "Email adress set successfully\n",
      "Fetching organism name for id: NZ_CP046507.1.\n",
      "Retrieved organism name for id: NZ_CP046507.1 successfuly.\n",
      "Fetching organism name for id: NZ_CP053068.1.\n",
      "Retrieved organism name for id: NZ_CP053068.1 successfuly.\n",
      "Fetching organism name for id: NZ_CP018363.1.\n",
      "Retrieved organism name for id: NZ_CP018363.1 successfuly.\n",
      "All organism names successfully retrieved\n"
     ]
    }
   ],
   "source": [
    "SeqProcessor.set_user_email()\n",
    "\n",
    "ncbi_ids = combined_results[\"GENOME\"].unique().tolist()\n",
    "\n",
    "organism_map = SeqProcessor.fetch_organism_names(ncbi_ids)\n",
    "\n",
    "# Map NCBI IDs to taxonomic names\n",
    "combined_results['Taxonomic_Name'] = combined_results['GENOME'].map(organism_map)\n",
    "\n",
    "# Identify unmatched genomes\n",
    "unmatched_genomes = combined_results[combined_results['Taxonomic_Name'].isnull()]['GENOME'].unique()\n",
    "\n",
    "if len(unmatched_genomes) > 0:\n",
    "    print(f\"Warning: Some genome IDs could not be matched with taxonomic names: {unmatched_genomes}\")\n",
    "\n",
    "# Extract sequences and create sequence IDs\n",
    "combined_results['L_id'] = combined_results['Taxonomic_Name'] + '_L' + combined_results['L-No'].astype(str)\n",
    "combined_results['R_id'] = combined_results['Taxonomic_Name'] + '_R' + combined_results['R-No'].astype(str)\n",
    "\n",
    "# Select relevant columns\n",
    "sequences_df = combined_results[['SEQ_L', 'SEQ_R', 'L_id', 'R_id']]\n",
    "\n",
    "# Save both left and right sequences to a single FASTA file will help with cd-hit\n",
    "trs_output_dir = os.path.join(results_directory,\"TRS_output\")\n",
    "fasta_file_path = os.path.join(trs_output_dir, 'combined_sequences.fasta')\n",
    "with open(fasta_file_path, 'w') as fasta_file:\n",
    "    for _, row in sequences_df.iterrows():\n",
    "        # Write left sequence\n",
    "        fasta_file.write(f'>{row[\"L_id\"]}\\n')\n",
    "        fasta_file.write(f'{row[\"SEQ_L\"]}\\n')\n",
    "        # Write right sequence\n",
    "        fasta_file.write(f'>{row[\"R_id\"]}\\n')\n",
    "        fasta_file.write(f'{row[\"SEQ_R\"]}\\n')"
   ]
  },
  {
   "cell_type": "code",
   "execution_count": 6,
   "id": "ec5d4d82",
   "metadata": {},
   "outputs": [
    {
     "name": "stdout",
     "output_type": "stream",
     "text": [
      "Seqeuences successfully renamed and saved at /home/hubert/TRS-omix/python/avium_results_L50_R50/TRS_output/combined_sequences_unique.fasta!\n"
     ]
    }
   ],
   "source": [
    "output_path = os.path.join(trs_output_dir, 'combined_sequences_unique.fasta')\n",
    "\n",
    "fasta_combined_file_path = output_path\n",
    "\n",
    "SeqProcessor.rename_sequences(fasta_file_path, output_path)"
   ]
  },
  {
   "cell_type": "code",
   "execution_count": 8,
   "id": "5517347d",
   "metadata": {},
   "outputs": [
    {
     "name": "stdout",
     "output_type": "stream",
     "text": [
      "Enter the sequence identity threshold between 0.75 and 1: 1\n",
      "CD-HIT executed successfully!\n",
      "The /home/hubert/TRS-omix/python/avium_results_L50_R50 will be renamed to /home/hubert/TRS-omix/python/avium_results_L50_R50_c1.0\n",
      "The results directory has been renamed to: /home/hubert/TRS-omix/python/avium_results_L50_R50_c1.0\n"
     ]
    }
   ],
   "source": [
    "fasta_file_path = os.path.join(trs_output_dir, 'combined_sequences.fasta')\n",
    "\n",
    "output_path = os.path.join(results_directory, \"cd-hit_results\")\n",
    "\n",
    "output_file = os.path.join(output_path, \"combined_sequences_unique_cdhit\")\n",
    "cdhit_path = SeqProcessor.find_file_by_name(file_name='cd-hit-est', auto=True)\n",
    "cdhit_path = Path(cdhit_path)\n",
    "cdhit_path = cdhit_path.parent\n",
    "if not os.path.exists(output_path):\n",
    "    os.makedirs(output_path)\n",
    "results_directory = SeqProcessor.run_cdhit_new(cdhit_path, input_file=fasta_combined_file_path, output_file=output_file,\n",
    "                                           results_directory=results_directory, sc = 1)\n",
    "\n",
    "trs_output_dir = os.path.join(results_directory,\"TRS_output\")"
   ]
  },
  {
   "cell_type": "code",
   "execution_count": 9,
   "id": "44247643",
   "metadata": {},
   "outputs": [],
   "source": [
    "input_file = os.path.join(results_directory,\"cd-hit_results\",\"combined_sequences_unique_cdhit.clstr\")\n",
    "output_file = os.path.join(results_directory,\"cd-hit_results\",\"combined_sequences_clusters.txt\")\n",
    "SeqProcessor.extract_sequence_ids(input_file,output_file)"
   ]
  },
  {
   "cell_type": "code",
   "execution_count": 10,
   "id": "3ea9cf9f",
   "metadata": {},
   "outputs": [],
   "source": [
    "cluster_to_clean = os.path.join(results_directory,\"cd-hit_results\",\"combined_sequences_clusters.txt\")"
   ]
  },
  {
   "cell_type": "code",
   "execution_count": 11,
   "id": "2897413d",
   "metadata": {},
   "outputs": [
    {
     "name": "stdout",
     "output_type": "stream",
     "text": [
      "Overwriting file /home/hubert/TRS-omix/python/avium_results_L50_R50_c1.0/cd-hit_results/combined_sequences_clusters.txt with cleaned entries\n"
     ]
    }
   ],
   "source": [
    "SeqProcessor.clean_sequence_ids(cluster_to_clean)\n",
    "cluster_cleaned = cluster_to_clean"
   ]
  },
  {
   "cell_type": "code",
   "execution_count": 12,
   "id": "54a52417",
   "metadata": {},
   "outputs": [
    {
     "name": "stdout",
     "output_type": "stream",
     "text": [
      "Fasta IDs processed successfully\n",
      "Directory /home/hubert/TRS-omix/python/avium_results_L50_R50_c1.0/filtered_sequences created successfully.\n"
     ]
    }
   ],
   "source": [
    "fasta_ids_to_remove = SeqProcessor.read_fasta_ids(cluster_cleaned)\n",
    "\n",
    "fasta_combined_file_path = os.path.join(trs_output_dir, 'combined_sequences_unique.fasta')\n",
    "\n",
    "filtered_sequences_directory = os.path.join(results_directory,\"filtered_sequences\")\n",
    "\n",
    "SeqProcessor.ensure_directory_exists(filtered_sequences_directory)\n",
    "\n",
    "filtered_fasta = os.path.join(filtered_sequences_directory,\"filtered_sequences_combined_unique.fasta\")\n",
    "\n",
    "SeqProcessor.filter_fasta_file(fasta_combined_file_path,filtered_fasta, fasta_ids_to_remove)"
   ]
  },
  {
   "cell_type": "code",
   "execution_count": 13,
   "id": "64f95d73",
   "metadata": {},
   "outputs": [
    {
     "name": "stdout",
     "output_type": "stream",
     "text": [
      "Fasta IDs processed successfully\n",
      "Directory /home/hubert/TRS-omix/python/avium_results_L50_R50_c1.0/blast_output created successfully.\n",
      "All results files are stored in /home/hubert/TRS-omix/python/avium_results_L50_R50_c1.0/filtered_sequences,\n",
      "please continue analysis by blasting them with 100% identity in tabular format. Directory for the blast output\n",
      "was created at /home/hubert/TRS-omix/python/avium_results_L50_R50_c1.0/blast_output\n"
     ]
    }
   ],
   "source": [
    "\n",
    "fasta_ids_to_include = SeqProcessor.read_fasta_ids(cluster_cleaned)\n",
    "\n",
    "sequences_in_clusters = os.path.join(filtered_sequences_directory, \"cluster_sequences_combined_unique.fasta\")\n",
    "\n",
    "unique_path = os.path.join(trs_output_dir, 'combined_sequences_unique.fasta')\n",
    "\n",
    "SeqProcessor.filter_fasta_file_clusters(unique_path, sequences_in_clusters, fasta_ids_to_include)\n",
    "\n",
    "blast_out_directory = os.path.join(results_directory,\"blast_output\")\n",
    "\n",
    "SeqProcessor.ensure_directory_exists(blast_out_directory)\n",
    "\n",
    "print(f\"\"\"All results files are stored in {filtered_sequences_directory},\n",
    "please continue analysis by blasting them with 100% identity in tabular format. Directory for the blast output\n",
    "was created at {blast_out_directory}\"\"\")\n"
   ]
  },
  {
   "cell_type": "code",
   "execution_count": 24,
   "id": "1a5c420f",
   "metadata": {},
   "outputs": [
    {
     "name": "stdout",
     "output_type": "stream",
     "text": [
      "Directory /home/hubert/TRS-omix/python/avium_results_L50_R50_c1.0/summary already exists.\n",
      "Multiple combined_sequences.fasta files found. Please select one:\n",
      "1. /home/hubert/TRS-omix/python/klebsiella_results_L100_R100_c1.0/TRS_output/combined_sequences.fasta\n",
      "2. /home/hubert/TRS-omix/python/klebsiella_results_L200_R200_c1.0/TRS_output/combined_sequences.fasta\n",
      "3. /home/hubert/TRS-omix/python/avium_results_L50_R50_c1.0/TRS_output/combined_sequences.fasta\n",
      "4. /home/hubert/Old_results/klebsiella_results_L100_R100_c1.0/TRS_output/combined_sequences.fasta\n",
      "5. /home/hubert/Old_results/klebsiella_results_L200_R200_c0.75/TRS_output/combined_sequences.fasta\n",
      "6. /home/hubert/Old_results/klebsiella_results_L200_R200_c1.0/TRS_output/combined_sequences.fasta\n",
      "7. /home/hubert/Old_results/klebsiella_results_L100_R100_c0.75/TRS_output/combined_sequences.fasta\n",
      "8. /home/hubert/Old_results/klebsiella_results_L50_R50_c1.0/TRS_output/combined_sequences.fasta\n",
      "9. /home/hubert/Old_results/klebsiella_results_L50_R50_c0.75/TRS_output/combined_sequences.fasta\n",
      "10. /home/hubert/.local/share/Trash/files/avium_results_L50_R50/TRS_output/combined_sequences.fasta\n",
      "11. /home/hubert/.local/share/Trash/files/avium_results_L50_R50_c1.0/TRS_output/combined_sequences.fasta\n",
      "12. /home/hubert/.local/share/Trash/files/avium_results_L50_R50_c1.2.0/TRS_output/combined_sequences.fasta\n",
      "Enter the number of the file you want to use or type 'exit' to exit:3\n",
      "Multiple cluster_sequences_combined_unique.fasta files found. Please select one:\n",
      "1. /home/hubert/TRS-omix/python/klebsiella_results_L100_R100_c1.0/filtered_sequences/cluster_sequences_combined_unique.fasta\n",
      "2. /home/hubert/TRS-omix/python/klebsiella_results_L200_R200_c1.0/filtered_sequences/cluster_sequences_combined_unique.fasta\n",
      "3. /home/hubert/TRS-omix/python/avium_results_L50_R50_c1.0/filtered_sequences/cluster_sequences_combined_unique.fasta\n",
      "4. /home/hubert/Old_results/klebsiella_results_L100_R100_c1.0/filtered_sequences/cluster_sequences_combined_unique.fasta\n",
      "5. /home/hubert/Old_results/klebsiella_results_L200_R200_c0.75/filtered_sequences/cluster_sequences_combined_unique.fasta\n",
      "6. /home/hubert/Old_results/klebsiella_results_L200_R200_c1.0/filtered_sequences/cluster_sequences_combined_unique.fasta\n",
      "7. /home/hubert/Old_results/klebsiella_results_L100_R100_c0.75/filtered_sequences/cluster_sequences_combined_unique.fasta\n",
      "8. /home/hubert/Old_results/klebsiella_results_L50_R50_c1.0/filtered_sequences/cluster_sequences_combined_unique.fasta\n",
      "9. /home/hubert/Old_results/klebsiella_results_L50_R50_c0.75/filtered_sequences/cluster_sequences_combined_unique.fasta\n",
      "10. /home/hubert/.local/share/Trash/files/avium_results_L50_R50_c1.0/filtered_sequences/cluster_sequences_combined_unique.fasta\n",
      "11. /home/hubert/.local/share/Trash/files/avium_results_L50_R50_c1.2.0/filtered_sequences/cluster_sequences_combined_unique.fasta\n",
      "Enter the number of the file you want to use or type 'exit' to exit:3\n",
      "Multiple filtered_sequences_combined_unique.fasta files found. Please select one:\n",
      "1. /home/hubert/TRS-omix/python/klebsiella_results_L100_R100_c1.0/filtered_sequences/filtered_sequences_combined_unique.fasta\n",
      "2. /home/hubert/TRS-omix/python/klebsiella_results_L200_R200_c1.0/filtered_sequences/filtered_sequences_combined_unique.fasta\n",
      "3. /home/hubert/TRS-omix/python/avium_results_L50_R50_c1.0/filtered_sequences/filtered_sequences_combined_unique.fasta\n",
      "4. /home/hubert/Old_results/klebsiella_results_L100_R100_c1.0/filtered_sequences/filtered_sequences_combined_unique.fasta\n",
      "5. /home/hubert/Old_results/klebsiella_results_L200_R200_c0.75/filtered_sequences/filtered_sequences_combined_unique.fasta\n",
      "6. /home/hubert/Old_results/klebsiella_results_L200_R200_c1.0/filtered_sequences/filtered_sequences_combined_unique.fasta\n",
      "7. /home/hubert/Old_results/klebsiella_results_L100_R100_c0.75/filtered_sequences/filtered_sequences_combined_unique.fasta\n",
      "8. /home/hubert/Old_results/klebsiella_results_L50_R50_c1.0/filtered_sequences/filtered_sequences_combined_unique.fasta\n",
      "9. /home/hubert/Old_results/klebsiella_results_L50_R50_c0.75/filtered_sequences/filtered_sequences_combined_unique.fasta\n",
      "10. /home/hubert/.local/share/Trash/files/avium_results_L50_R50_c1.0/filtered_sequences/filtered_sequences_combined_unique.fasta\n",
      "11. /home/hubert/.local/share/Trash/files/avium_results_L50_R50_c1.2.0/filtered_sequences/filtered_sequences_combined_unique.fasta\n",
      "Enter the number of the file you want to use or type 'exit' to exit:3\n",
      "Multiple combined_sequences_unique_cdhit.clstr files found. Please select one:\n",
      "1. /home/hubert/TRS-omix/python/klebsiella_results_L100_R100_c1.0/cd-hit_results/combined_sequences_unique_cdhit.clstr\n",
      "2. /home/hubert/TRS-omix/python/klebsiella_results_L200_R200_c1.0/cd-hit_results/combined_sequences_unique_cdhit.clstr\n",
      "3. /home/hubert/TRS-omix/python/avium_results_L50_R50_c1.0/cd-hit_results/combined_sequences_unique_cdhit.clstr\n",
      "4. /home/hubert/Old_results/klebsiella_results_L100_R100_c1.0/cd-hit_results/combined_sequences_unique_cdhit.clstr\n",
      "5. /home/hubert/Old_results/klebsiella_results_L200_R200_c0.75/cd-hit_results/combined_sequences_unique_cdhit.clstr\n",
      "6. /home/hubert/Old_results/klebsiella_results_L200_R200_c1.0/cd-hit_results/combined_sequences_unique_cdhit.clstr\n",
      "7. /home/hubert/Old_results/klebsiella_results_L100_R100_c0.75/cd-hit_results/combined_sequences_unique_cdhit.clstr\n",
      "8. /home/hubert/Old_results/klebsiella_results_L50_R50_c1.0/cd-hit_results/combined_sequences_unique_cdhit.clstr\n",
      "9. /home/hubert/Old_results/klebsiella_results_L50_R50_c0.75/cd-hit_results/combined_sequences_unique_cdhit.clstr\n",
      "10. /home/hubert/.local/share/Trash/files/avium_results_L50_R50_c1.0/cd-hit_results/combined_sequences_unique_cdhit.clstr\n",
      "11. /home/hubert/.local/share/Trash/files/avium_results_L50_R50_c1.2.0/cd-hit_results/combined_sequences_unique_cdhit.clstr\n",
      "Enter the number of the file you want to use or type 'exit' to exit:3\n",
      "Multiple filtered_sequences_combined_unique_blastn_out.txt files found. Please select one:\n",
      "1. /home/hubert/TRS-omix/python/klebsiella_results_L100_R100_c1.0/blast_output/filtered_sequences_combined_unique_blastn_out.txt\n",
      "2. /home/hubert/Old_results/klebsiella_results_L100_R100_c1.0/blast_output/filtered_sequences_combined_unique_blastn_out.txt\n",
      "3. /home/hubert/Old_results/klebsiella_results_L200_R200_c1.0/blast_output/filtered_sequences_combined_unique_blastn_out.txt\n",
      "4. /home/hubert/Old_results/klebsiella_results_L50_R50_c1.0/blast_output/filtered_sequences_combined_unique_blastn_out.txt\n",
      "5. /home/hubert/Old_results/klebsiella_results_L50_R50_c0.75/blast_output/filtered_sequences_combined_unique_blastn_out.txt\n",
      "6. /home/hubert/.local/share/Trash/files/avium_results_L50_R50_c1.0/blast_output/filtered_sequences_combined_unique_blastn_out.txt\n",
      "Enter the number of the file you want to use or type 'exit' to exit:exit\n",
      "Exiting.\n",
      "Multiple cluster_sequences_combined_unique_blastn_out.txt files found. Please select one:\n",
      "1. /home/hubert/TRS-omix/python/klebsiella_results_L100_R100_c1.0/blast_output/cluster_sequences_combined_unique_blastn_out.txt\n",
      "2. /home/hubert/Old_results/klebsiella_results_L100_R100_c1.0/blast_output/cluster_sequences_combined_unique_blastn_out.txt\n",
      "3. /home/hubert/Old_results/klebsiella_results_L200_R200_c1.0/blast_output/cluster_sequences_combined_unique_blastn_out.txt\n",
      "4. /home/hubert/Old_results/klebsiella_results_L50_R50_c1.0/blast_output/cluster_sequences_combined_unique_blastn_out.txt\n",
      "5. /home/hubert/Old_results/klebsiella_results_L50_R50_c0.75/blast_output/cluster_sequences_combined_unique_blastn_out.txt\n",
      "6. /home/hubert/.local/share/Trash/files/avium_results_L50_R50_c1.0/blast_output/cluster_sequences_combined_unique_blastn_out.txt\n",
      "Enter the number of the file you want to use or type 'exit' to exit:exit\n",
      "Exiting.\n",
      "Multiple taxids_cluster_sequences_combined_unique_blastn_out.txt files found. Please select one:\n",
      "1. /home/hubert/TRS-omix/python/klebsiella_results_L100_R100_c1.0/blast_output/modified_blast/taxids_cluster_sequences_combined_unique_blastn_out.txt\n",
      "2. /home/hubert/Old_results/klebsiella_results_L100_R100_c1.0/blast_output/modified_blast/taxids_cluster_sequences_combined_unique_blastn_out.txt\n",
      "3. /home/hubert/Old_results/klebsiella_results_L200_R200_c1.0/blast_output/modified_blast/taxids_cluster_sequences_combined_unique_blastn_out.txt\n",
      "4. /home/hubert/Old_results/klebsiella_results_L50_R50_c1.0/blast_output/modified_blast/taxids_cluster_sequences_combined_unique_blastn_out.txt\n",
      "5. /home/hubert/Old_results/klebsiella_results_L50_R50_c0.75/blast_output/modified_blast/taxids_cluster_sequences_combined_unique_blastn_out.txt\n",
      "6. /home/hubert/.local/share/Trash/files/modified_blast/taxids_cluster_sequences_combined_unique_blastn_out.txt\n",
      "7. /home/hubert/.local/share/Trash/files/avium_results_L50_R50_c1.0/blast_output/modified_blast/taxids_cluster_sequences_combined_unique_blastn_out.txt\n",
      "8. /home/hubert/.local/share/Trash/files/modified_blast.2/taxids_cluster_sequences_combined_unique_blastn_out.txt\n"
     ]
    },
    {
     "name": "stdout",
     "output_type": "stream",
     "text": [
      "Enter the number of the file you want to use or type 'exit' to exit:exit\n",
      "Exiting.\n",
      "Multiple taxids_filtered_sequences_combined_unique_blastn_out.txt files found. Please select one:\n",
      "1. /home/hubert/TRS-omix/python/klebsiella_results_L100_R100_c1.0/blast_output/modified_blast/taxids_filtered_sequences_combined_unique_blastn_out.txt\n",
      "2. /home/hubert/Old_results/klebsiella_results_L100_R100_c1.0/blast_output/modified_blast/taxids_filtered_sequences_combined_unique_blastn_out.txt\n",
      "3. /home/hubert/Old_results/klebsiella_results_L200_R200_c1.0/blast_output/modified_blast/taxids_filtered_sequences_combined_unique_blastn_out.txt\n",
      "4. /home/hubert/Old_results/klebsiella_results_L50_R50_c1.0/blast_output/modified_blast/taxids_filtered_sequences_combined_unique_blastn_out.txt\n",
      "5. /home/hubert/Old_results/klebsiella_results_L50_R50_c0.75/blast_output/modified_blast/taxids_filtered_sequences_combined_unique_blastn_out.txt\n",
      "6. /home/hubert/.local/share/Trash/files/modified_blast/taxids_filtered_sequences_combined_unique_blastn_out.txt\n",
      "7. /home/hubert/.local/share/Trash/files/avium_results_L50_R50_c1.0/blast_output/modified_blast/taxids_filtered_sequences_combined_unique_blastn_out.txt\n",
      "8. /home/hubert/.local/share/Trash/files/modified_blast.2/taxids_filtered_sequences_combined_unique_blastn_out.txt\n",
      "Enter the number of the file you want to use or type 'exit' to exit:exit\n",
      "Exiting.\n"
     ]
    }
   ],
   "source": [
    "summary_dir = os.path.join(results_directory,\"summary\")\n",
    "SeqProcessor.ensure_directory_exists(summary_dir)\n",
    "summary_path = os.path.join(summary_dir,\"summary.txt\")\n",
    "SeqProcessor.write_summary(summary_path,results_directory)"
   ]
  },
  {
   "cell_type": "code",
   "execution_count": 16,
   "id": "48a6ed31",
   "metadata": {},
   "outputs": [
    {
     "data": {
      "text/plain": [
       "'/home/hubert/TRS-omix/python/avium_results_L50_R50_c1.0/summary'"
      ]
     },
     "execution_count": 16,
     "metadata": {},
     "output_type": "execute_result"
    }
   ],
   "source": []
  },
  {
   "cell_type": "code",
   "execution_count": 22,
   "id": "dc89b546",
   "metadata": {},
   "outputs": [],
   "source": []
  },
  {
   "cell_type": "code",
   "execution_count": 23,
   "id": "2d4e00d4",
   "metadata": {},
   "outputs": [
    {
     "data": {
      "text/plain": [
       "'/home/hubert/TRS-omix/python/avium_results_L50_R50_c1.0/summary/summary'"
      ]
     },
     "execution_count": 23,
     "metadata": {},
     "output_type": "execute_result"
    }
   ],
   "source": []
  },
  {
   "cell_type": "code",
   "execution_count": null,
   "id": "035bd238",
   "metadata": {},
   "outputs": [],
   "source": []
  },
  {
   "cell_type": "code",
   "execution_count": null,
   "id": "edf9b0d4",
   "metadata": {},
   "outputs": [],
   "source": []
  },
  {
   "cell_type": "code",
   "execution_count": null,
   "id": "524257c5",
   "metadata": {},
   "outputs": [],
   "source": []
  },
  {
   "cell_type": "code",
   "execution_count": null,
   "id": "1c5ba62c",
   "metadata": {},
   "outputs": [],
   "source": []
  }
 ],
 "metadata": {
  "kernelspec": {
   "display_name": "Python [conda env:TRS] *",
   "language": "python",
   "name": "conda-env-TRS-py"
  },
  "language_info": {
   "codemirror_mode": {
    "name": "ipython",
    "version": 3
   },
   "file_extension": ".py",
   "mimetype": "text/x-python",
   "name": "python",
   "nbconvert_exporter": "python",
   "pygments_lexer": "ipython3",
   "version": "3.6.13"
  }
 },
 "nbformat": 4,
 "nbformat_minor": 5
}
